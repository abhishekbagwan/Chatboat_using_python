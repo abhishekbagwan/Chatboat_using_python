{
 "cells": [
  {
   "cell_type": "markdown",
   "id": "75b5d6a6",
   "metadata": {},
   "source": [
    "<center>\n",
    "    <h1 style= \"background-color:orange; color:white; font-size:30px; font-weight:bold; font-family:Time New Roman; boder:2px solid black;\"> Task-4 Build own Chatbot using Python\n",
    " </h1>\n",
    "    </center>\n"
   ]
  },
  {
   "cell_type": "markdown",
   "id": "11d17f7d",
   "metadata": {},
   "source": [
    "Objective: The primary objective of the \"Chatbot using Python\" project is to develop an intelligent and interactive conversational agent that can simulate natural language conversations with users."
   ]
  },
  {
   "cell_type": "code",
   "execution_count": null,
   "id": "eb41b095",
   "metadata": {},
   "outputs": [],
   "source": [
    "import random\n",
    "\n",
    "# Dictionary of predefined user inputs and corresponding chatbot responses\n",
    "responses = {\n",
    "    \"hello\": [\"Hello!\", \"Hi there!\", \"Hey!\"],\n",
    "    \"how are you\": [\"I'm just a bot, but I'm doing fine!\", \"I'm good, thank you!\"],\n",
    "    \"bye\": [\"Goodbye!\", \"Farewell!\", \"See you later!\"],\n",
    "    \"default\": [\"I'm sorry, I don't understand.\", \"Could you please rephrase that?\", \"I'm still learning!\"],\n",
    "}\n",
    "\n",
    "def get_response(user_input):\n",
    "    user_input = user_input.lower()\n",
    "    \n",
    "    if user_input in responses:\n",
    "        return random.choice(responses[user_input])\n",
    "    else:\n",
    "        return random.choice(responses[\"default\"])\n",
    "\n",
    "def main():\n",
    "    print(\"Chatbot: Hi! I'm your friendly chatbot. Type 'bye' to exit.\")\n",
    "    \n",
    "    while True:\n",
    "        user_input = input(\"You: \")\n",
    "        \n",
    "        if user_input.lower() == \"bye\":\n",
    "            print(\"Chatbot: Goodbye!\")\n",
    "            break\n",
    "        \n",
    "        response = get_response(user_input)\n",
    "        print(\"Chatbot:\", response)\n",
    "\n",
    "if __name__ == \"__main__\":\n",
    "    main()\n"
   ]
  },
  {
   "cell_type": "markdown",
   "id": "07b7144f",
   "metadata": {},
   "source": [
    " <center>\n",
    "    <h1 style= \"background-color:blue; color:white; font-size:30px; font-weight:bold; font-family:Time New Roman; boder:2px solid black;\"> THANK YOU\n",
    " </h1>\n",
    "    </center>\n"
   ]
  },
  {
   "cell_type": "code",
   "execution_count": null,
   "id": "21aa5744",
   "metadata": {},
   "outputs": [],
   "source": []
  }
 ],
 "metadata": {
  "kernelspec": {
   "display_name": "Python 3 (ipykernel)",
   "language": "python",
   "name": "python3"
  },
  "language_info": {
   "codemirror_mode": {
    "name": "ipython",
    "version": 3
   },
   "file_extension": ".py",
   "mimetype": "text/x-python",
   "name": "python",
   "nbconvert_exporter": "python",
   "pygments_lexer": "ipython3",
   "version": "3.9.13"
  }
 },
 "nbformat": 4,
 "nbformat_minor": 5
}
